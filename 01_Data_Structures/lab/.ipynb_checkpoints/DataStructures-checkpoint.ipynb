{
 "cells": [
  {
   "cell_type": "markdown",
   "id": "34ca7b91-726f-4afb-882e-5ed4c20e8381",
   "metadata": {},
   "source": [
    "# Data Structures"
   ]
  },
  {
   "cell_type": "markdown",
   "id": "b3e094b9-bf2a-4080-9bd2-0bd06cc035ee",
   "metadata": {},
   "source": [
    "This notebook is a playground where I try several algorithms.\n",
    "\n",
    "Overview\n",
    "\n",
    "- [Merge Sort](#merge-sort)"
   ]
  },
  {
   "cell_type": "markdown",
   "id": "3a1080b7-e44f-4101-850c-9e34d9b30b64",
   "metadata": {},
   "source": [
    "### Merge Sort"
   ]
  },
  {
   "cell_type": "code",
   "execution_count": 5,
   "id": "c66bceac-e6b7-47f4-afad-bad175320e14",
   "metadata": {},
   "outputs": [],
   "source": [
    "def merge_sort(lst):\n",
    "    if len(lst) < 2:\n",
    "        return lst\n",
    "    else:\n",
    "        # Split\n",
    "        mid = len(lst) // 2 # floor\n",
    "        left = lst[:mid]\n",
    "        right = lst[mid:]\n",
    "        # Sort each half\n",
    "        left_sorted = merge_sort(left)\n",
    "        right_sorted = merge_sort(right)\n",
    "        # Merge \n",
    "        i, j = 0, 0\n",
    "        k = 0\n",
    "        lst_sorted = [None] * len(lst)\n",
    "        #while i in range(len(left_sorted)) and j in range(len(right_sorted)):\n",
    "        while i < len(left_sorted) and j < len(right_sorted):\n",
    "            if left_sorted[i] < right_sorted[j]:\n",
    "                lst_sorted[k] = left_sorted[i]\n",
    "                i += 1\n",
    "            else:\n",
    "                lst_sorted[k] = right_sorted[j]\n",
    "                j += 1\n",
    "            k += 1\n",
    "        # Add remainder\n",
    "        if i < len(left_sorted):\n",
    "            # We have not taken all items from left_sorted\n",
    "            # instead, all from right_sorted were taken.\n",
    "            # This cannot happen! But anyways\n",
    "            lst_sorted[k:] = left_sorted[i:]\n",
    "        elif j < len(right_sorted):\n",
    "            # We have not taken all items from right_sorted\n",
    "            # instead, all from left_sorted were taken.\n",
    "            lst_sorted[k:] = right_sorted[j:]\n",
    "        \n",
    "        return lst_sorted"
   ]
  },
  {
   "cell_type": "code",
   "execution_count": 7,
   "id": "cf960c76-c348-4cc2-9e65-2879adf42372",
   "metadata": {},
   "outputs": [
    {
     "data": {
      "text/plain": [
       "[0, 1, 3, 5, 10]"
      ]
     },
     "execution_count": 7,
     "metadata": {},
     "output_type": "execute_result"
    }
   ],
   "source": [
    "lst = [5, 3, 10, 1, 0]\n",
    "merge_sort(lst)"
   ]
  },
  {
   "cell_type": "code",
   "execution_count": 10,
   "id": "9a8bb993-9db0-4765-b197-ebdce06538dd",
   "metadata": {},
   "outputs": [
    {
     "data": {
      "text/plain": [
       "[1, 10, 3, 5]"
      ]
     },
     "execution_count": 10,
     "metadata": {},
     "output_type": "execute_result"
    }
   ],
   "source": [
    "lst[3::-1]"
   ]
  },
  {
   "cell_type": "code",
   "execution_count": null,
   "id": "fdd7aa61-ab2c-4eb1-bc21-faa2b71f4ae4",
   "metadata": {},
   "outputs": [],
   "source": []
  }
 ],
 "metadata": {
  "kernelspec": {
   "display_name": "Python 3 (ipykernel)",
   "language": "python",
   "name": "python3"
  },
  "language_info": {
   "codemirror_mode": {
    "name": "ipython",
    "version": 3
   },
   "file_extension": ".py",
   "mimetype": "text/x-python",
   "name": "python",
   "nbconvert_exporter": "python",
   "pygments_lexer": "ipython3",
   "version": "3.7.11"
  }
 },
 "nbformat": 4,
 "nbformat_minor": 5
}
